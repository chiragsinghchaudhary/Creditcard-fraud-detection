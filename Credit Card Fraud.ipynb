{
 "cells": [
  {
   "cell_type": "code",
   "execution_count": 1,
   "metadata": {},
   "outputs": [],
   "source": [
    "import pandas as pd\n",
    "import numpy as np\n",
    "#np.random.seed(1337)\n",
    "\n",
    "import keras\n",
    "import matplotlib.pyplot as plt\n",
    "import seaborn as sns\n",
    "from sklearn.preprocessing import MinMaxScaler\n",
    "from sklearn.utils import resample\n",
    "from tensorflow import keras\n",
    "from keras import backend as K\n",
    "from tensorflow.keras.layers import Dense\n",
    "import sklearn\n",
    "from sklearn.model_selection import train_test_split\n",
    "from sklearn.utils import shuffle\n",
    "from keras import backend as K\n",
    "from tensorflow.keras.models import Sequential"
   ]
  },
  {
   "cell_type": "code",
   "execution_count": 2,
   "metadata": {},
   "outputs": [],
   "source": [
    "df= pd.read_csv(r\"E:\\credit card.csv\")"
   ]
  },
  {
   "cell_type": "code",
   "execution_count": 3,
   "metadata": {},
   "outputs": [
    {
     "data": {
      "text/html": [
       "<div>\n",
       "<style scoped>\n",
       "    .dataframe tbody tr th:only-of-type {\n",
       "        vertical-align: middle;\n",
       "    }\n",
       "\n",
       "    .dataframe tbody tr th {\n",
       "        vertical-align: top;\n",
       "    }\n",
       "\n",
       "    .dataframe thead th {\n",
       "        text-align: right;\n",
       "    }\n",
       "</style>\n",
       "<table border=\"1\" class=\"dataframe\">\n",
       "  <thead>\n",
       "    <tr style=\"text-align: right;\">\n",
       "      <th></th>\n",
       "      <th>Time</th>\n",
       "      <th>V1</th>\n",
       "      <th>V2</th>\n",
       "      <th>V3</th>\n",
       "      <th>V4</th>\n",
       "      <th>V5</th>\n",
       "      <th>V6</th>\n",
       "      <th>V7</th>\n",
       "      <th>V8</th>\n",
       "      <th>V9</th>\n",
       "      <th>...</th>\n",
       "      <th>V21</th>\n",
       "      <th>V22</th>\n",
       "      <th>V23</th>\n",
       "      <th>V24</th>\n",
       "      <th>V25</th>\n",
       "      <th>V26</th>\n",
       "      <th>V27</th>\n",
       "      <th>V28</th>\n",
       "      <th>Amount</th>\n",
       "      <th>Class</th>\n",
       "    </tr>\n",
       "  </thead>\n",
       "  <tbody>\n",
       "    <tr>\n",
       "      <th>count</th>\n",
       "      <td>18823.000000</td>\n",
       "      <td>18823.000000</td>\n",
       "      <td>18823.000000</td>\n",
       "      <td>18823.000000</td>\n",
       "      <td>18822.000000</td>\n",
       "      <td>18822.000000</td>\n",
       "      <td>18822.000000</td>\n",
       "      <td>18822.000000</td>\n",
       "      <td>18822.000000</td>\n",
       "      <td>18822.000000</td>\n",
       "      <td>...</td>\n",
       "      <td>18822.000000</td>\n",
       "      <td>18822.000000</td>\n",
       "      <td>18822.000000</td>\n",
       "      <td>18822.000000</td>\n",
       "      <td>18822.000000</td>\n",
       "      <td>18822.000000</td>\n",
       "      <td>18822.000000</td>\n",
       "      <td>18822.000000</td>\n",
       "      <td>18822.000000</td>\n",
       "      <td>18822.000000</td>\n",
       "    </tr>\n",
       "    <tr>\n",
       "      <th>mean</th>\n",
       "      <td>14651.480795</td>\n",
       "      <td>-0.240879</td>\n",
       "      <td>0.248593</td>\n",
       "      <td>0.761435</td>\n",
       "      <td>0.286825</td>\n",
       "      <td>-0.157608</td>\n",
       "      <td>0.100323</td>\n",
       "      <td>-0.148577</td>\n",
       "      <td>0.016747</td>\n",
       "      <td>0.686557</td>\n",
       "      <td>...</td>\n",
       "      <td>-0.049598</td>\n",
       "      <td>-0.145228</td>\n",
       "      <td>-0.038633</td>\n",
       "      <td>0.013904</td>\n",
       "      <td>0.121804</td>\n",
       "      <td>0.035624</td>\n",
       "      <td>0.014618</td>\n",
       "      <td>0.007617</td>\n",
       "      <td>69.392202</td>\n",
       "      <td>0.004516</td>\n",
       "    </tr>\n",
       "    <tr>\n",
       "      <th>std</th>\n",
       "      <td>10184.359676</td>\n",
       "      <td>1.887840</td>\n",
       "      <td>1.513443</td>\n",
       "      <td>1.767863</td>\n",
       "      <td>1.475061</td>\n",
       "      <td>1.430407</td>\n",
       "      <td>1.334000</td>\n",
       "      <td>1.347791</td>\n",
       "      <td>1.346509</td>\n",
       "      <td>1.277885</td>\n",
       "      <td>...</td>\n",
       "      <td>0.832536</td>\n",
       "      <td>0.635229</td>\n",
       "      <td>0.524783</td>\n",
       "      <td>0.590758</td>\n",
       "      <td>0.438795</td>\n",
       "      <td>0.533583</td>\n",
       "      <td>0.397788</td>\n",
       "      <td>0.246400</td>\n",
       "      <td>198.471707</td>\n",
       "      <td>0.067051</td>\n",
       "    </tr>\n",
       "    <tr>\n",
       "      <th>min</th>\n",
       "      <td>0.000000</td>\n",
       "      <td>-30.552380</td>\n",
       "      <td>-40.978852</td>\n",
       "      <td>-31.103685</td>\n",
       "      <td>-5.172595</td>\n",
       "      <td>-32.092129</td>\n",
       "      <td>-23.496714</td>\n",
       "      <td>-26.548144</td>\n",
       "      <td>-41.484823</td>\n",
       "      <td>-7.175097</td>\n",
       "      <td>...</td>\n",
       "      <td>-20.262054</td>\n",
       "      <td>-8.593642</td>\n",
       "      <td>-26.751119</td>\n",
       "      <td>-2.728650</td>\n",
       "      <td>-7.495741</td>\n",
       "      <td>-1.338556</td>\n",
       "      <td>-8.567638</td>\n",
       "      <td>-3.575312</td>\n",
       "      <td>0.000000</td>\n",
       "      <td>0.000000</td>\n",
       "    </tr>\n",
       "    <tr>\n",
       "      <th>25%</th>\n",
       "      <td>4132.000000</td>\n",
       "      <td>-0.958911</td>\n",
       "      <td>-0.315978</td>\n",
       "      <td>0.322046</td>\n",
       "      <td>-0.632901</td>\n",
       "      <td>-0.736981</td>\n",
       "      <td>-0.653777</td>\n",
       "      <td>-0.600491</td>\n",
       "      <td>-0.173062</td>\n",
       "      <td>-0.160927</td>\n",
       "      <td>...</td>\n",
       "      <td>-0.260379</td>\n",
       "      <td>-0.558322</td>\n",
       "      <td>-0.174122</td>\n",
       "      <td>-0.332476</td>\n",
       "      <td>-0.139398</td>\n",
       "      <td>-0.342905</td>\n",
       "      <td>-0.070173</td>\n",
       "      <td>-0.011174</td>\n",
       "      <td>5.522500</td>\n",
       "      <td>0.000000</td>\n",
       "    </tr>\n",
       "    <tr>\n",
       "      <th>50%</th>\n",
       "      <td>13819.000000</td>\n",
       "      <td>-0.302521</td>\n",
       "      <td>0.226919</td>\n",
       "      <td>0.909125</td>\n",
       "      <td>0.230278</td>\n",
       "      <td>-0.198725</td>\n",
       "      <td>-0.169971</td>\n",
       "      <td>-0.075845</td>\n",
       "      <td>0.022061</td>\n",
       "      <td>0.680284</td>\n",
       "      <td>...</td>\n",
       "      <td>-0.116878</td>\n",
       "      <td>-0.118321</td>\n",
       "      <td>-0.046890</td>\n",
       "      <td>0.064208</td>\n",
       "      <td>0.160458</td>\n",
       "      <td>-0.032851</td>\n",
       "      <td>0.003344</td>\n",
       "      <td>0.018900</td>\n",
       "      <td>15.950000</td>\n",
       "      <td>0.000000</td>\n",
       "    </tr>\n",
       "    <tr>\n",
       "      <th>75%</th>\n",
       "      <td>25116.500000</td>\n",
       "      <td>1.164347</td>\n",
       "      <td>0.872902</td>\n",
       "      <td>1.546038</td>\n",
       "      <td>1.153695</td>\n",
       "      <td>0.342059</td>\n",
       "      <td>0.494122</td>\n",
       "      <td>0.446335</td>\n",
       "      <td>0.276778</td>\n",
       "      <td>1.449754</td>\n",
       "      <td>...</td>\n",
       "      <td>0.045889</td>\n",
       "      <td>0.252054</td>\n",
       "      <td>0.072502</td>\n",
       "      <td>0.399452</td>\n",
       "      <td>0.400044</td>\n",
       "      <td>0.339548</td>\n",
       "      <td>0.096146</td>\n",
       "      <td>0.077502</td>\n",
       "      <td>58.915000</td>\n",
       "      <td>0.000000</td>\n",
       "    </tr>\n",
       "    <tr>\n",
       "      <th>max</th>\n",
       "      <td>29797.000000</td>\n",
       "      <td>1.960497</td>\n",
       "      <td>16.713389</td>\n",
       "      <td>4.101716</td>\n",
       "      <td>11.927512</td>\n",
       "      <td>34.099309</td>\n",
       "      <td>21.393069</td>\n",
       "      <td>34.303177</td>\n",
       "      <td>20.007208</td>\n",
       "      <td>10.392889</td>\n",
       "      <td>...</td>\n",
       "      <td>22.614889</td>\n",
       "      <td>5.805795</td>\n",
       "      <td>13.876221</td>\n",
       "      <td>3.695503</td>\n",
       "      <td>5.525093</td>\n",
       "      <td>3.517346</td>\n",
       "      <td>8.254376</td>\n",
       "      <td>4.860769</td>\n",
       "      <td>7712.430000</td>\n",
       "      <td>1.000000</td>\n",
       "    </tr>\n",
       "  </tbody>\n",
       "</table>\n",
       "<p>8 rows × 31 columns</p>\n",
       "</div>"
      ],
      "text/plain": [
       "               Time            V1            V2            V3            V4  \\\n",
       "count  18823.000000  18823.000000  18823.000000  18823.000000  18822.000000   \n",
       "mean   14651.480795     -0.240879      0.248593      0.761435      0.286825   \n",
       "std    10184.359676      1.887840      1.513443      1.767863      1.475061   \n",
       "min        0.000000    -30.552380    -40.978852    -31.103685     -5.172595   \n",
       "25%     4132.000000     -0.958911     -0.315978      0.322046     -0.632901   \n",
       "50%    13819.000000     -0.302521      0.226919      0.909125      0.230278   \n",
       "75%    25116.500000      1.164347      0.872902      1.546038      1.153695   \n",
       "max    29797.000000      1.960497     16.713389      4.101716     11.927512   \n",
       "\n",
       "                 V5            V6            V7            V8            V9  \\\n",
       "count  18822.000000  18822.000000  18822.000000  18822.000000  18822.000000   \n",
       "mean      -0.157608      0.100323     -0.148577      0.016747      0.686557   \n",
       "std        1.430407      1.334000      1.347791      1.346509      1.277885   \n",
       "min      -32.092129    -23.496714    -26.548144    -41.484823     -7.175097   \n",
       "25%       -0.736981     -0.653777     -0.600491     -0.173062     -0.160927   \n",
       "50%       -0.198725     -0.169971     -0.075845      0.022061      0.680284   \n",
       "75%        0.342059      0.494122      0.446335      0.276778      1.449754   \n",
       "max       34.099309     21.393069     34.303177     20.007208     10.392889   \n",
       "\n",
       "       ...           V21           V22           V23           V24  \\\n",
       "count  ...  18822.000000  18822.000000  18822.000000  18822.000000   \n",
       "mean   ...     -0.049598     -0.145228     -0.038633      0.013904   \n",
       "std    ...      0.832536      0.635229      0.524783      0.590758   \n",
       "min    ...    -20.262054     -8.593642    -26.751119     -2.728650   \n",
       "25%    ...     -0.260379     -0.558322     -0.174122     -0.332476   \n",
       "50%    ...     -0.116878     -0.118321     -0.046890      0.064208   \n",
       "75%    ...      0.045889      0.252054      0.072502      0.399452   \n",
       "max    ...     22.614889      5.805795     13.876221      3.695503   \n",
       "\n",
       "                V25           V26           V27           V28        Amount  \\\n",
       "count  18822.000000  18822.000000  18822.000000  18822.000000  18822.000000   \n",
       "mean       0.121804      0.035624      0.014618      0.007617     69.392202   \n",
       "std        0.438795      0.533583      0.397788      0.246400    198.471707   \n",
       "min       -7.495741     -1.338556     -8.567638     -3.575312      0.000000   \n",
       "25%       -0.139398     -0.342905     -0.070173     -0.011174      5.522500   \n",
       "50%        0.160458     -0.032851      0.003344      0.018900     15.950000   \n",
       "75%        0.400044      0.339548      0.096146      0.077502     58.915000   \n",
       "max        5.525093      3.517346      8.254376      4.860769   7712.430000   \n",
       "\n",
       "              Class  \n",
       "count  18822.000000  \n",
       "mean       0.004516  \n",
       "std        0.067051  \n",
       "min        0.000000  \n",
       "25%        0.000000  \n",
       "50%        0.000000  \n",
       "75%        0.000000  \n",
       "max        1.000000  \n",
       "\n",
       "[8 rows x 31 columns]"
      ]
     },
     "execution_count": 3,
     "metadata": {},
     "output_type": "execute_result"
    }
   ],
   "source": [
    "df.describe()"
   ]
  },
  {
   "cell_type": "code",
   "execution_count": 4,
   "metadata": {},
   "outputs": [
    {
     "data": {
      "text/html": [
       "<div>\n",
       "<style scoped>\n",
       "    .dataframe tbody tr th:only-of-type {\n",
       "        vertical-align: middle;\n",
       "    }\n",
       "\n",
       "    .dataframe tbody tr th {\n",
       "        vertical-align: top;\n",
       "    }\n",
       "\n",
       "    .dataframe thead th {\n",
       "        text-align: right;\n",
       "    }\n",
       "</style>\n",
       "<table border=\"1\" class=\"dataframe\">\n",
       "  <thead>\n",
       "    <tr style=\"text-align: right;\">\n",
       "      <th></th>\n",
       "      <th>Time</th>\n",
       "      <th>V1</th>\n",
       "      <th>V2</th>\n",
       "      <th>V3</th>\n",
       "      <th>V4</th>\n",
       "      <th>V5</th>\n",
       "      <th>V6</th>\n",
       "      <th>V7</th>\n",
       "      <th>V8</th>\n",
       "      <th>V9</th>\n",
       "      <th>...</th>\n",
       "      <th>V21</th>\n",
       "      <th>V22</th>\n",
       "      <th>V23</th>\n",
       "      <th>V24</th>\n",
       "      <th>V25</th>\n",
       "      <th>V26</th>\n",
       "      <th>V27</th>\n",
       "      <th>V28</th>\n",
       "      <th>Amount</th>\n",
       "      <th>Class</th>\n",
       "    </tr>\n",
       "  </thead>\n",
       "  <tbody>\n",
       "    <tr>\n",
       "      <th>0</th>\n",
       "      <td>0</td>\n",
       "      <td>-1.359807</td>\n",
       "      <td>-0.072781</td>\n",
       "      <td>2.536347</td>\n",
       "      <td>1.378155</td>\n",
       "      <td>-0.338321</td>\n",
       "      <td>0.462388</td>\n",
       "      <td>0.239599</td>\n",
       "      <td>0.098698</td>\n",
       "      <td>0.363787</td>\n",
       "      <td>...</td>\n",
       "      <td>-0.018307</td>\n",
       "      <td>0.277838</td>\n",
       "      <td>-0.110474</td>\n",
       "      <td>0.066928</td>\n",
       "      <td>0.128539</td>\n",
       "      <td>-0.189115</td>\n",
       "      <td>0.133558</td>\n",
       "      <td>-0.021053</td>\n",
       "      <td>149.62</td>\n",
       "      <td>0.0</td>\n",
       "    </tr>\n",
       "    <tr>\n",
       "      <th>1</th>\n",
       "      <td>0</td>\n",
       "      <td>1.191857</td>\n",
       "      <td>0.266151</td>\n",
       "      <td>0.166480</td>\n",
       "      <td>0.448154</td>\n",
       "      <td>0.060018</td>\n",
       "      <td>-0.082361</td>\n",
       "      <td>-0.078803</td>\n",
       "      <td>0.085102</td>\n",
       "      <td>-0.255425</td>\n",
       "      <td>...</td>\n",
       "      <td>-0.225775</td>\n",
       "      <td>-0.638672</td>\n",
       "      <td>0.101288</td>\n",
       "      <td>-0.339846</td>\n",
       "      <td>0.167170</td>\n",
       "      <td>0.125895</td>\n",
       "      <td>-0.008983</td>\n",
       "      <td>0.014724</td>\n",
       "      <td>2.69</td>\n",
       "      <td>0.0</td>\n",
       "    </tr>\n",
       "    <tr>\n",
       "      <th>2</th>\n",
       "      <td>1</td>\n",
       "      <td>-1.358354</td>\n",
       "      <td>-1.340163</td>\n",
       "      <td>1.773209</td>\n",
       "      <td>0.379780</td>\n",
       "      <td>-0.503198</td>\n",
       "      <td>1.800499</td>\n",
       "      <td>0.791461</td>\n",
       "      <td>0.247676</td>\n",
       "      <td>-1.514654</td>\n",
       "      <td>...</td>\n",
       "      <td>0.247998</td>\n",
       "      <td>0.771679</td>\n",
       "      <td>0.909412</td>\n",
       "      <td>-0.689281</td>\n",
       "      <td>-0.327642</td>\n",
       "      <td>-0.139097</td>\n",
       "      <td>-0.055353</td>\n",
       "      <td>-0.059752</td>\n",
       "      <td>378.66</td>\n",
       "      <td>0.0</td>\n",
       "    </tr>\n",
       "    <tr>\n",
       "      <th>3</th>\n",
       "      <td>1</td>\n",
       "      <td>-0.966272</td>\n",
       "      <td>-0.185226</td>\n",
       "      <td>1.792993</td>\n",
       "      <td>-0.863291</td>\n",
       "      <td>-0.010309</td>\n",
       "      <td>1.247203</td>\n",
       "      <td>0.237609</td>\n",
       "      <td>0.377436</td>\n",
       "      <td>-1.387024</td>\n",
       "      <td>...</td>\n",
       "      <td>-0.108300</td>\n",
       "      <td>0.005274</td>\n",
       "      <td>-0.190321</td>\n",
       "      <td>-1.175575</td>\n",
       "      <td>0.647376</td>\n",
       "      <td>-0.221929</td>\n",
       "      <td>0.062723</td>\n",
       "      <td>0.061458</td>\n",
       "      <td>123.50</td>\n",
       "      <td>0.0</td>\n",
       "    </tr>\n",
       "    <tr>\n",
       "      <th>4</th>\n",
       "      <td>2</td>\n",
       "      <td>-1.158233</td>\n",
       "      <td>0.877737</td>\n",
       "      <td>1.548718</td>\n",
       "      <td>0.403034</td>\n",
       "      <td>-0.407193</td>\n",
       "      <td>0.095921</td>\n",
       "      <td>0.592941</td>\n",
       "      <td>-0.270533</td>\n",
       "      <td>0.817739</td>\n",
       "      <td>...</td>\n",
       "      <td>-0.009431</td>\n",
       "      <td>0.798278</td>\n",
       "      <td>-0.137458</td>\n",
       "      <td>0.141267</td>\n",
       "      <td>-0.206010</td>\n",
       "      <td>0.502292</td>\n",
       "      <td>0.219422</td>\n",
       "      <td>0.215153</td>\n",
       "      <td>69.99</td>\n",
       "      <td>0.0</td>\n",
       "    </tr>\n",
       "  </tbody>\n",
       "</table>\n",
       "<p>5 rows × 31 columns</p>\n",
       "</div>"
      ],
      "text/plain": [
       "   Time        V1        V2        V3        V4        V5        V6        V7  \\\n",
       "0     0 -1.359807 -0.072781  2.536347  1.378155 -0.338321  0.462388  0.239599   \n",
       "1     0  1.191857  0.266151  0.166480  0.448154  0.060018 -0.082361 -0.078803   \n",
       "2     1 -1.358354 -1.340163  1.773209  0.379780 -0.503198  1.800499  0.791461   \n",
       "3     1 -0.966272 -0.185226  1.792993 -0.863291 -0.010309  1.247203  0.237609   \n",
       "4     2 -1.158233  0.877737  1.548718  0.403034 -0.407193  0.095921  0.592941   \n",
       "\n",
       "         V8        V9  ...       V21       V22       V23       V24       V25  \\\n",
       "0  0.098698  0.363787  ... -0.018307  0.277838 -0.110474  0.066928  0.128539   \n",
       "1  0.085102 -0.255425  ... -0.225775 -0.638672  0.101288 -0.339846  0.167170   \n",
       "2  0.247676 -1.514654  ...  0.247998  0.771679  0.909412 -0.689281 -0.327642   \n",
       "3  0.377436 -1.387024  ... -0.108300  0.005274 -0.190321 -1.175575  0.647376   \n",
       "4 -0.270533  0.817739  ... -0.009431  0.798278 -0.137458  0.141267 -0.206010   \n",
       "\n",
       "        V26       V27       V28  Amount  Class  \n",
       "0 -0.189115  0.133558 -0.021053  149.62    0.0  \n",
       "1  0.125895 -0.008983  0.014724    2.69    0.0  \n",
       "2 -0.139097 -0.055353 -0.059752  378.66    0.0  \n",
       "3 -0.221929  0.062723  0.061458  123.50    0.0  \n",
       "4  0.502292  0.219422  0.215153   69.99    0.0  \n",
       "\n",
       "[5 rows x 31 columns]"
      ]
     },
     "execution_count": 4,
     "metadata": {},
     "output_type": "execute_result"
    }
   ],
   "source": [
    "df.head()"
   ]
  },
  {
   "cell_type": "code",
   "execution_count": 5,
   "metadata": {},
   "outputs": [
    {
     "data": {
      "text/plain": [
       "Time        int64\n",
       "V1        float64\n",
       "V2        float64\n",
       "V3        float64\n",
       "V4        float64\n",
       "V5        float64\n",
       "V6        float64\n",
       "V7        float64\n",
       "V8        float64\n",
       "V9        float64\n",
       "V10       float64\n",
       "V11       float64\n",
       "V12       float64\n",
       "V13       float64\n",
       "V14       float64\n",
       "V15       float64\n",
       "V16       float64\n",
       "V17       float64\n",
       "V18       float64\n",
       "V19       float64\n",
       "V20       float64\n",
       "V21       float64\n",
       "V22       float64\n",
       "V23       float64\n",
       "V24       float64\n",
       "V25       float64\n",
       "V26       float64\n",
       "V27       float64\n",
       "V28       float64\n",
       "Amount    float64\n",
       "Class     float64\n",
       "dtype: object"
      ]
     },
     "execution_count": 5,
     "metadata": {},
     "output_type": "execute_result"
    }
   ],
   "source": [
    "df.dtypes"
   ]
  },
  {
   "cell_type": "code",
   "execution_count": 6,
   "metadata": {},
   "outputs": [
    {
     "data": {
      "text/plain": [
       "0.0    18737\n",
       "1.0       85\n",
       "Name: Class, dtype: int64"
      ]
     },
     "execution_count": 6,
     "metadata": {},
     "output_type": "execute_result"
    }
   ],
   "source": [
    "df['Class'].value_counts()"
   ]
  },
  {
   "cell_type": "code",
   "execution_count": 7,
   "metadata": {},
   "outputs": [
    {
     "data": {
      "text/plain": [
       "<AxesSubplot:>"
      ]
     },
     "execution_count": 7,
     "metadata": {},
     "output_type": "execute_result"
    },
    {
     "data": {
      "image/png": "[encoded data removed]",
      "text/plain": [
       "<Figure size 432x288 with 1 Axes>"
      ]
     },
     "metadata": {
      "needs_background": "light"
     },
     "output_type": "display_data"
    }
   ],
   "source": [
    "p = pd.value_counts(df['Class'], sort = True)\n",
    "p.plot(kind = 'bar', rot=0)"
   ]
  },
  {
   "cell_type": "code",
   "execution_count": 8,
   "metadata": {},
   "outputs": [
    {
     "data": {
      "text/plain": [
       "(18823, 31)"
      ]
     },
     "execution_count": 8,
     "metadata": {},
     "output_type": "execute_result"
    }
   ],
   "source": [
    "df.shape"
   ]
  },
  {
   "cell_type": "code",
   "execution_count": 9,
   "metadata": {},
   "outputs": [
    {
     "data": {
      "text/plain": [
       "Time      0\n",
       "V1        0\n",
       "V2        0\n",
       "V3        0\n",
       "V4        1\n",
       "V5        1\n",
       "V6        1\n",
       "V7        1\n",
       "V8        1\n",
       "V9        1\n",
       "V10       1\n",
       "V11       1\n",
       "V12       1\n",
       "V13       1\n",
       "V14       1\n",
       "V15       1\n",
       "V16       1\n",
       "V17       1\n",
       "V18       1\n",
       "V19       1\n",
       "V20       1\n",
       "V21       1\n",
       "V22       1\n",
       "V23       1\n",
       "V24       1\n",
       "V25       1\n",
       "V26       1\n",
       "V27       1\n",
       "V28       1\n",
       "Amount    1\n",
       "Class     1\n",
       "dtype: int64"
      ]
     },
     "execution_count": 9,
     "metadata": {},
     "output_type": "execute_result"
    }
   ],
   "source": [
    "df.isnull().sum()"
   ]
  },
  {
   "cell_type": "code",
   "execution_count": 10,
   "metadata": {},
   "outputs": [],
   "source": [
    "df=df.dropna(axis=0)"
   ]
  },
  {
   "cell_type": "code",
   "execution_count": 11,
   "metadata": {},
   "outputs": [
    {
     "data": {
      "text/plain": [
       "Time      0\n",
       "V1        0\n",
       "V2        0\n",
       "V3        0\n",
       "V4        0\n",
       "V5        0\n",
       "V6        0\n",
       "V7        0\n",
       "V8        0\n",
       "V9        0\n",
       "V10       0\n",
       "V11       0\n",
       "V12       0\n",
       "V13       0\n",
       "V14       0\n",
       "V15       0\n",
       "V16       0\n",
       "V17       0\n",
       "V18       0\n",
       "V19       0\n",
       "V20       0\n",
       "V21       0\n",
       "V22       0\n",
       "V23       0\n",
       "V24       0\n",
       "V25       0\n",
       "V26       0\n",
       "V27       0\n",
       "V28       0\n",
       "Amount    0\n",
       "Class     0\n",
       "dtype: int64"
      ]
     },
     "execution_count": 11,
     "metadata": {},
     "output_type": "execute_result"
    }
   ],
   "source": [
    "df.isnull().sum()"
   ]
  },
  {
   "cell_type": "code",
   "execution_count": 12,
   "metadata": {},
   "outputs": [
    {
     "data": {
      "text/plain": [
       "(18822, 31)"
      ]
     },
     "execution_count": 12,
     "metadata": {},
     "output_type": "execute_result"
    }
   ],
   "source": [
    "df.shape"
   ]
  },
  {
   "cell_type": "code",
   "execution_count": 13,
   "metadata": {},
   "outputs": [
    {
     "data": {
      "text/plain": [
       "<AxesSubplot:>"
      ]
     },
     "execution_count": 13,
     "metadata": {},
     "output_type": "execute_result"
    },
    {
     "data": {
      "image/png": "[encoded data removed]",
      "text/plain": [
       "<Figure size 432x288 with 1 Axes>"
      ]
     },
     "metadata": {
      "needs_background": "light"
     },
     "output_type": "display_data"
    }
   ],
   "source": [
    "df['Amount'].plot()"
   ]
  },
  {
   "cell_type": "code",
   "execution_count": 14,
   "metadata": {},
   "outputs": [],
   "source": [
    "Fraud = df[df['Class']==1]\n",
    "Normal = df[df['Class']==0]"
   ]
  },
  {
   "cell_type": "code",
   "execution_count": 15,
   "metadata": {},
   "outputs": [
    {
     "data": {
      "text/plain": [
       "<matplotlib.collections.PathCollection at 0x2ec489d2e08>"
      ]
     },
     "execution_count": 15,
     "metadata": {},
     "output_type": "execute_result"
    },
    {
     "data": {
      "image/png": "[encoded data removed]",
      "text/plain": [
       "<Figure size 432x288 with 1 Axes>"
      ]
     },
     "metadata": {
      "needs_background": "light"
     },
     "output_type": "display_data"
    }
   ],
   "source": [
    "plt.scatter(Fraud.Time,Fraud.Amount)"
   ]
  },
  {
   "cell_type": "code",
   "execution_count": 16,
   "metadata": {},
   "outputs": [
    {
     "data": {
      "text/plain": [
       "<matplotlib.collections.PathCollection at 0x2ec48a47a08>"
      ]
     },
     "execution_count": 16,
     "metadata": {},
     "output_type": "execute_result"
    },
    {
     "data": {
      "image/png": "[encoded data removed]",
      "text/plain": [
       "<Figure size 432x288 with 1 Axes>"
      ]
     },
     "metadata": {
      "needs_background": "light"
     },
     "output_type": "display_data"
    }
   ],
   "source": [
    "plt.scatter(Normal.Time,Normal.Amount)"
   ]
  },
  {
   "cell_type": "code",
   "execution_count": 17,
   "metadata": {},
   "outputs": [],
   "source": [
    "scaler = MinMaxScaler()\n",
    "df['Amount'] = scaler.fit_transform(df['Amount'].values.reshape(-1,1))"
   ]
  },
  {
   "cell_type": "code",
   "execution_count": 18,
   "metadata": {},
   "outputs": [
    {
     "data": {
      "text/html": [
       "<div>\n",
       "<style scoped>\n",
       "    .dataframe tbody tr th:only-of-type {\n",
       "        vertical-align: middle;\n",
       "    }\n",
       "\n",
       "    .dataframe tbody tr th {\n",
       "        vertical-align: top;\n",
       "    }\n",
       "\n",
       "    .dataframe thead th {\n",
       "        text-align: right;\n",
       "    }\n",
       "</style>\n",
       "<table border=\"1\" class=\"dataframe\">\n",
       "  <thead>\n",
       "    <tr style=\"text-align: right;\">\n",
       "      <th></th>\n",
       "      <th>Time</th>\n",
       "      <th>V1</th>\n",
       "      <th>V2</th>\n",
       "      <th>V3</th>\n",
       "      <th>V4</th>\n",
       "      <th>V5</th>\n",
       "      <th>V6</th>\n",
       "      <th>V7</th>\n",
       "      <th>V8</th>\n",
       "      <th>V9</th>\n",
       "      <th>...</th>\n",
       "      <th>V21</th>\n",
       "      <th>V22</th>\n",
       "      <th>V23</th>\n",
       "      <th>V24</th>\n",
       "      <th>V25</th>\n",
       "      <th>V26</th>\n",
       "      <th>V27</th>\n",
       "      <th>V28</th>\n",
       "      <th>Amount</th>\n",
       "      <th>Class</th>\n",
       "    </tr>\n",
       "  </thead>\n",
       "  <tbody>\n",
       "    <tr>\n",
       "      <th>0</th>\n",
       "      <td>0</td>\n",
       "      <td>-1.359807</td>\n",
       "      <td>-0.072781</td>\n",
       "      <td>2.536347</td>\n",
       "      <td>1.378155</td>\n",
       "      <td>-0.338321</td>\n",
       "      <td>0.462388</td>\n",
       "      <td>0.239599</td>\n",
       "      <td>0.098698</td>\n",
       "      <td>0.363787</td>\n",
       "      <td>...</td>\n",
       "      <td>-0.018307</td>\n",
       "      <td>0.277838</td>\n",
       "      <td>-0.110474</td>\n",
       "      <td>0.066928</td>\n",
       "      <td>0.128539</td>\n",
       "      <td>-0.189115</td>\n",
       "      <td>0.133558</td>\n",
       "      <td>-0.021053</td>\n",
       "      <td>0.019400</td>\n",
       "      <td>0.0</td>\n",
       "    </tr>\n",
       "    <tr>\n",
       "      <th>1</th>\n",
       "      <td>0</td>\n",
       "      <td>1.191857</td>\n",
       "      <td>0.266151</td>\n",
       "      <td>0.166480</td>\n",
       "      <td>0.448154</td>\n",
       "      <td>0.060018</td>\n",
       "      <td>-0.082361</td>\n",
       "      <td>-0.078803</td>\n",
       "      <td>0.085102</td>\n",
       "      <td>-0.255425</td>\n",
       "      <td>...</td>\n",
       "      <td>-0.225775</td>\n",
       "      <td>-0.638672</td>\n",
       "      <td>0.101288</td>\n",
       "      <td>-0.339846</td>\n",
       "      <td>0.167170</td>\n",
       "      <td>0.125895</td>\n",
       "      <td>-0.008983</td>\n",
       "      <td>0.014724</td>\n",
       "      <td>0.000349</td>\n",
       "      <td>0.0</td>\n",
       "    </tr>\n",
       "    <tr>\n",
       "      <th>2</th>\n",
       "      <td>1</td>\n",
       "      <td>-1.358354</td>\n",
       "      <td>-1.340163</td>\n",
       "      <td>1.773209</td>\n",
       "      <td>0.379780</td>\n",
       "      <td>-0.503198</td>\n",
       "      <td>1.800499</td>\n",
       "      <td>0.791461</td>\n",
       "      <td>0.247676</td>\n",
       "      <td>-1.514654</td>\n",
       "      <td>...</td>\n",
       "      <td>0.247998</td>\n",
       "      <td>0.771679</td>\n",
       "      <td>0.909412</td>\n",
       "      <td>-0.689281</td>\n",
       "      <td>-0.327642</td>\n",
       "      <td>-0.139097</td>\n",
       "      <td>-0.055353</td>\n",
       "      <td>-0.059752</td>\n",
       "      <td>0.049097</td>\n",
       "      <td>0.0</td>\n",
       "    </tr>\n",
       "    <tr>\n",
       "      <th>3</th>\n",
       "      <td>1</td>\n",
       "      <td>-0.966272</td>\n",
       "      <td>-0.185226</td>\n",
       "      <td>1.792993</td>\n",
       "      <td>-0.863291</td>\n",
       "      <td>-0.010309</td>\n",
       "      <td>1.247203</td>\n",
       "      <td>0.237609</td>\n",
       "      <td>0.377436</td>\n",
       "      <td>-1.387024</td>\n",
       "      <td>...</td>\n",
       "      <td>-0.108300</td>\n",
       "      <td>0.005274</td>\n",
       "      <td>-0.190321</td>\n",
       "      <td>-1.175575</td>\n",
       "      <td>0.647376</td>\n",
       "      <td>-0.221929</td>\n",
       "      <td>0.062723</td>\n",
       "      <td>0.061458</td>\n",
       "      <td>0.016013</td>\n",
       "      <td>0.0</td>\n",
       "    </tr>\n",
       "    <tr>\n",
       "      <th>4</th>\n",
       "      <td>2</td>\n",
       "      <td>-1.158233</td>\n",
       "      <td>0.877737</td>\n",
       "      <td>1.548718</td>\n",
       "      <td>0.403034</td>\n",
       "      <td>-0.407193</td>\n",
       "      <td>0.095921</td>\n",
       "      <td>0.592941</td>\n",
       "      <td>-0.270533</td>\n",
       "      <td>0.817739</td>\n",
       "      <td>...</td>\n",
       "      <td>-0.009431</td>\n",
       "      <td>0.798278</td>\n",
       "      <td>-0.137458</td>\n",
       "      <td>0.141267</td>\n",
       "      <td>-0.206010</td>\n",
       "      <td>0.502292</td>\n",
       "      <td>0.219422</td>\n",
       "      <td>0.215153</td>\n",
       "      <td>0.009075</td>\n",
       "      <td>0.0</td>\n",
       "    </tr>\n",
       "  </tbody>\n",
       "</table>\n",
       "<p>5 rows × 31 columns</p>\n",
       "</div>"
      ],
      "text/plain": [
       "   Time        V1        V2        V3        V4        V5        V6        V7  \\\n",
       "0     0 -1.359807 -0.072781  2.536347  1.378155 -0.338321  0.462388  0.239599   \n",
       "1     0  1.191857  0.266151  0.166480  0.448154  0.060018 -0.082361 -0.078803   \n",
       "2     1 -1.358354 -1.340163  1.773209  0.379780 -0.503198  1.800499  0.791461   \n",
       "3     1 -0.966272 -0.185226  1.792993 -0.863291 -0.010309  1.247203  0.237609   \n",
       "4     2 -1.158233  0.877737  1.548718  0.403034 -0.407193  0.095921  0.592941   \n",
       "\n",
       "         V8        V9  ...       V21       V22       V23       V24       V25  \\\n",
       "0  0.098698  0.363787  ... -0.018307  0.277838 -0.110474  0.066928  0.128539   \n",
       "1  0.085102 -0.255425  ... -0.225775 -0.638672  0.101288 -0.339846  0.167170   \n",
       "2  0.247676 -1.514654  ...  0.247998  0.771679  0.909412 -0.689281 -0.327642   \n",
       "3  0.377436 -1.387024  ... -0.108300  0.005274 -0.190321 -1.175575  0.647376   \n",
       "4 -0.270533  0.817739  ... -0.009431  0.798278 -0.137458  0.141267 -0.206010   \n",
       "\n",
       "        V26       V27       V28    Amount  Class  \n",
       "0 -0.189115  0.133558 -0.021053  0.019400    0.0  \n",
       "1  0.125895 -0.008983  0.014724  0.000349    0.0  \n",
       "2 -0.139097 -0.055353 -0.059752  0.049097    0.0  \n",
       "3 -0.221929  0.062723  0.061458  0.016013    0.0  \n",
       "4  0.502292  0.219422  0.215153  0.009075    0.0  \n",
       "\n",
       "[5 rows x 31 columns]"
      ]
     },
     "execution_count": 18,
     "metadata": {},
     "output_type": "execute_result"
    }
   ],
   "source": [
    "df.head()"
   ]
  },
  {
   "cell_type": "code",
   "execution_count": 19,
   "metadata": {},
   "outputs": [],
   "source": [
    "corr = df.corr()"
   ]
  },
  {
   "cell_type": "code",
   "execution_count": 20,
   "metadata": {},
   "outputs": [
    {
     "data": {
      "text/plain": [
       "<AxesSubplot:>"
      ]
     },
     "execution_count": 20,
     "metadata": {},
     "output_type": "execute_result"
    },
    {
     "data": {
      "image/png": "[encoded data removed]",
      "text/plain": [
       "<Figure size 1440x1080 with 2 Axes>"
      ]
     },
     "metadata": {
      "needs_background": "light"
     },
     "output_type": "display_data"
    }
   ],
   "source": [
    "plt.subplots(figsize=(20,15))\n",
    "sns.heatmap(corr)"
   ]
  },
  {
   "cell_type": "code",
   "execution_count": 21,
   "metadata": {},
   "outputs": [],
   "source": [
    "df=shuffle(df)"
   ]
  },
  {
   "cell_type": "code",
   "execution_count": 22,
   "metadata": {},
   "outputs": [],
   "source": [
    "df_majority = df[df.Class==0]\n",
    "df_minority = df[df.Class==1]"
   ]
  },
  {
   "cell_type": "code",
   "execution_count": 23,
   "metadata": {},
   "outputs": [
    {
     "data": {
      "text/plain": [
       "18737"
      ]
     },
     "execution_count": 23,
     "metadata": {},
     "output_type": "execute_result"
    }
   ],
   "source": [
    "len(df_majority)"
   ]
  },
  {
   "cell_type": "code",
   "execution_count": 24,
   "metadata": {},
   "outputs": [
    {
     "data": {
      "text/plain": [
       "85"
      ]
     },
     "execution_count": 24,
     "metadata": {},
     "output_type": "execute_result"
    }
   ],
   "source": [
    "len(df_minority)"
   ]
  },
  {
   "cell_type": "code",
   "execution_count": 25,
   "metadata": {},
   "outputs": [],
   "source": [
    "df_minority_upsampled = resample(df_minority, replace=True,     # sample with replacement\n",
    "                                 n_samples=100000,    # to match majority class\n",
    "                                 random_state=123) # reproducible results"
   ]
  },
  {
   "cell_type": "code",
   "execution_count": 26,
   "metadata": {},
   "outputs": [
    {
     "data": {
      "text/html": [
       "<div>\n",
       "<style scoped>\n",
       "    .dataframe tbody tr th:only-of-type {\n",
       "        vertical-align: middle;\n",
       "    }\n",
       "\n",
       "    .dataframe tbody tr th {\n",
       "        vertical-align: top;\n",
       "    }\n",
       "\n",
       "    .dataframe thead th {\n",
       "        text-align: right;\n",
       "    }\n",
       "</style>\n",
       "<table border=\"1\" class=\"dataframe\">\n",
       "  <thead>\n",
       "    <tr style=\"text-align: right;\">\n",
       "      <th></th>\n",
       "      <th>Time</th>\n",
       "      <th>V1</th>\n",
       "      <th>V2</th>\n",
       "      <th>V3</th>\n",
       "      <th>V4</th>\n",
       "      <th>V5</th>\n",
       "      <th>V6</th>\n",
       "      <th>V7</th>\n",
       "      <th>V8</th>\n",
       "      <th>V9</th>\n",
       "      <th>...</th>\n",
       "      <th>V21</th>\n",
       "      <th>V22</th>\n",
       "      <th>V23</th>\n",
       "      <th>V24</th>\n",
       "      <th>V25</th>\n",
       "      <th>V26</th>\n",
       "      <th>V27</th>\n",
       "      <th>V28</th>\n",
       "      <th>Amount</th>\n",
       "      <th>Class</th>\n",
       "    </tr>\n",
       "  </thead>\n",
       "  <tbody>\n",
       "    <tr>\n",
       "      <th>8972</th>\n",
       "      <td>12393</td>\n",
       "      <td>-4.064005</td>\n",
       "      <td>3.100935</td>\n",
       "      <td>-1.188498</td>\n",
       "      <td>3.264633</td>\n",
       "      <td>-1.903562</td>\n",
       "      <td>0.320351</td>\n",
       "      <td>-0.954940</td>\n",
       "      <td>-3.277535</td>\n",
       "      <td>2.820829</td>\n",
       "      <td>...</td>\n",
       "      <td>1.688665</td>\n",
       "      <td>-0.078845</td>\n",
       "      <td>0.193731</td>\n",
       "      <td>0.479496</td>\n",
       "      <td>-0.506603</td>\n",
       "      <td>-0.409863</td>\n",
       "      <td>-3.036271</td>\n",
       "      <td>-0.630605</td>\n",
       "      <td>0.023295</td>\n",
       "      <td>1.0</td>\n",
       "    </tr>\n",
       "    <tr>\n",
       "      <th>11710</th>\n",
       "      <td>20011</td>\n",
       "      <td>-14.724627</td>\n",
       "      <td>7.875157</td>\n",
       "      <td>-21.872317</td>\n",
       "      <td>11.906170</td>\n",
       "      <td>-8.348734</td>\n",
       "      <td>-2.262846</td>\n",
       "      <td>-15.833443</td>\n",
       "      <td>0.077874</td>\n",
       "      <td>-6.356833</td>\n",
       "      <td>...</td>\n",
       "      <td>-2.362345</td>\n",
       "      <td>1.099557</td>\n",
       "      <td>1.037199</td>\n",
       "      <td>-1.036359</td>\n",
       "      <td>-0.254777</td>\n",
       "      <td>0.642343</td>\n",
       "      <td>2.161129</td>\n",
       "      <td>-1.401282</td>\n",
       "      <td>0.000130</td>\n",
       "      <td>1.0</td>\n",
       "    </tr>\n",
       "    <tr>\n",
       "      <th>6899</th>\n",
       "      <td>8878</td>\n",
       "      <td>-2.661802</td>\n",
       "      <td>5.856393</td>\n",
       "      <td>-7.653616</td>\n",
       "      <td>6.379742</td>\n",
       "      <td>-0.060712</td>\n",
       "      <td>-3.131550</td>\n",
       "      <td>-3.103570</td>\n",
       "      <td>1.778492</td>\n",
       "      <td>-3.831154</td>\n",
       "      <td>...</td>\n",
       "      <td>0.734775</td>\n",
       "      <td>-0.435901</td>\n",
       "      <td>-0.384766</td>\n",
       "      <td>-0.286016</td>\n",
       "      <td>1.007934</td>\n",
       "      <td>0.413196</td>\n",
       "      <td>0.280284</td>\n",
       "      <td>0.303937</td>\n",
       "      <td>0.000130</td>\n",
       "      <td>1.0</td>\n",
       "    </tr>\n",
       "    <tr>\n",
       "      <th>18809</th>\n",
       "      <td>29785</td>\n",
       "      <td>0.923764</td>\n",
       "      <td>0.344048</td>\n",
       "      <td>-2.880004</td>\n",
       "      <td>1.721680</td>\n",
       "      <td>-3.019565</td>\n",
       "      <td>-0.639736</td>\n",
       "      <td>-3.801325</td>\n",
       "      <td>1.299096</td>\n",
       "      <td>0.864065</td>\n",
       "      <td>...</td>\n",
       "      <td>0.899931</td>\n",
       "      <td>1.481271</td>\n",
       "      <td>0.725266</td>\n",
       "      <td>0.176960</td>\n",
       "      <td>-1.815638</td>\n",
       "      <td>-0.536517</td>\n",
       "      <td>0.489035</td>\n",
       "      <td>-0.049729</td>\n",
       "      <td>0.003929</td>\n",
       "      <td>1.0</td>\n",
       "    </tr>\n",
       "    <tr>\n",
       "      <th>6717</th>\n",
       "      <td>8408</td>\n",
       "      <td>-1.813280</td>\n",
       "      <td>4.917851</td>\n",
       "      <td>-5.926130</td>\n",
       "      <td>5.701500</td>\n",
       "      <td>1.204393</td>\n",
       "      <td>-3.035138</td>\n",
       "      <td>-1.713402</td>\n",
       "      <td>0.561257</td>\n",
       "      <td>-3.796354</td>\n",
       "      <td>...</td>\n",
       "      <td>0.615642</td>\n",
       "      <td>-0.406427</td>\n",
       "      <td>-0.737018</td>\n",
       "      <td>-0.279642</td>\n",
       "      <td>1.106766</td>\n",
       "      <td>0.323885</td>\n",
       "      <td>0.894767</td>\n",
       "      <td>0.569519</td>\n",
       "      <td>0.000130</td>\n",
       "      <td>1.0</td>\n",
       "    </tr>\n",
       "    <tr>\n",
       "      <th>...</th>\n",
       "      <td>...</td>\n",
       "      <td>...</td>\n",
       "      <td>...</td>\n",
       "      <td>...</td>\n",
       "      <td>...</td>\n",
       "      <td>...</td>\n",
       "      <td>...</td>\n",
       "      <td>...</td>\n",
       "      <td>...</td>\n",
       "      <td>...</td>\n",
       "      <td>...</td>\n",
       "      <td>...</td>\n",
       "      <td>...</td>\n",
       "      <td>...</td>\n",
       "      <td>...</td>\n",
       "      <td>...</td>\n",
       "      <td>...</td>\n",
       "      <td>...</td>\n",
       "      <td>...</td>\n",
       "      <td>...</td>\n",
       "      <td>...</td>\n",
       "    </tr>\n",
       "    <tr>\n",
       "      <th>16415</th>\n",
       "      <td>27784</td>\n",
       "      <td>0.288029</td>\n",
       "      <td>0.965681</td>\n",
       "      <td>-1.459495</td>\n",
       "      <td>1.921863</td>\n",
       "      <td>-1.912414</td>\n",
       "      <td>-1.130282</td>\n",
       "      <td>-2.814263</td>\n",
       "      <td>0.648663</td>\n",
       "      <td>-0.695263</td>\n",
       "      <td>...</td>\n",
       "      <td>0.603127</td>\n",
       "      <td>0.380690</td>\n",
       "      <td>-0.064125</td>\n",
       "      <td>0.271380</td>\n",
       "      <td>0.337220</td>\n",
       "      <td>0.626156</td>\n",
       "      <td>0.565125</td>\n",
       "      <td>0.305925</td>\n",
       "      <td>0.003029</td>\n",
       "      <td>1.0</td>\n",
       "    </tr>\n",
       "    <tr>\n",
       "      <th>10484</th>\n",
       "      <td>17187</td>\n",
       "      <td>1.088375</td>\n",
       "      <td>0.898474</td>\n",
       "      <td>0.394684</td>\n",
       "      <td>3.170258</td>\n",
       "      <td>0.175739</td>\n",
       "      <td>-0.221981</td>\n",
       "      <td>-0.022989</td>\n",
       "      <td>-0.010874</td>\n",
       "      <td>0.860044</td>\n",
       "      <td>...</td>\n",
       "      <td>-0.423554</td>\n",
       "      <td>-0.800852</td>\n",
       "      <td>0.077614</td>\n",
       "      <td>0.167608</td>\n",
       "      <td>0.350182</td>\n",
       "      <td>-0.118941</td>\n",
       "      <td>0.012948</td>\n",
       "      <td>0.054254</td>\n",
       "      <td>0.000491</td>\n",
       "      <td>1.0</td>\n",
       "    </tr>\n",
       "    <tr>\n",
       "      <th>8615</th>\n",
       "      <td>11629</td>\n",
       "      <td>-3.891192</td>\n",
       "      <td>7.098916</td>\n",
       "      <td>-11.426467</td>\n",
       "      <td>8.607557</td>\n",
       "      <td>-2.065706</td>\n",
       "      <td>-2.985288</td>\n",
       "      <td>-8.138589</td>\n",
       "      <td>2.973928</td>\n",
       "      <td>-6.272790</td>\n",
       "      <td>...</td>\n",
       "      <td>1.757085</td>\n",
       "      <td>-0.189709</td>\n",
       "      <td>-0.508629</td>\n",
       "      <td>-1.189308</td>\n",
       "      <td>1.188536</td>\n",
       "      <td>0.605242</td>\n",
       "      <td>1.881529</td>\n",
       "      <td>0.875260</td>\n",
       "      <td>0.000130</td>\n",
       "      <td>1.0</td>\n",
       "    </tr>\n",
       "    <tr>\n",
       "      <th>6882</th>\n",
       "      <td>8808</td>\n",
       "      <td>-4.617217</td>\n",
       "      <td>1.695694</td>\n",
       "      <td>-3.114372</td>\n",
       "      <td>4.328199</td>\n",
       "      <td>-1.873257</td>\n",
       "      <td>-0.989908</td>\n",
       "      <td>-4.577265</td>\n",
       "      <td>0.472216</td>\n",
       "      <td>0.472017</td>\n",
       "      <td>...</td>\n",
       "      <td>0.481830</td>\n",
       "      <td>0.146023</td>\n",
       "      <td>0.117039</td>\n",
       "      <td>-0.217565</td>\n",
       "      <td>-0.138776</td>\n",
       "      <td>-0.424453</td>\n",
       "      <td>-1.002041</td>\n",
       "      <td>0.890780</td>\n",
       "      <td>0.000143</td>\n",
       "      <td>1.0</td>\n",
       "    </tr>\n",
       "    <tr>\n",
       "      <th>8312</th>\n",
       "      <td>11092</td>\n",
       "      <td>0.378275</td>\n",
       "      <td>3.914797</td>\n",
       "      <td>-5.726872</td>\n",
       "      <td>6.094141</td>\n",
       "      <td>1.698875</td>\n",
       "      <td>-2.807314</td>\n",
       "      <td>-0.591118</td>\n",
       "      <td>-0.123496</td>\n",
       "      <td>-2.530713</td>\n",
       "      <td>...</td>\n",
       "      <td>0.149896</td>\n",
       "      <td>-0.601967</td>\n",
       "      <td>-0.613724</td>\n",
       "      <td>-0.403114</td>\n",
       "      <td>1.568445</td>\n",
       "      <td>0.521884</td>\n",
       "      <td>0.527938</td>\n",
       "      <td>0.411910</td>\n",
       "      <td>0.000130</td>\n",
       "      <td>1.0</td>\n",
       "    </tr>\n",
       "  </tbody>\n",
       "</table>\n",
       "<p>100000 rows × 31 columns</p>\n",
       "</div>"
      ],
      "text/plain": [
       "        Time         V1        V2         V3         V4        V5        V6  \\\n",
       "8972   12393  -4.064005  3.100935  -1.188498   3.264633 -1.903562  0.320351   \n",
       "11710  20011 -14.724627  7.875157 -21.872317  11.906170 -8.348734 -2.262846   \n",
       "6899    8878  -2.661802  5.856393  -7.653616   6.379742 -0.060712 -3.131550   \n",
       "18809  29785   0.923764  0.344048  -2.880004   1.721680 -3.019565 -0.639736   \n",
       "6717    8408  -1.813280  4.917851  -5.926130   5.701500  1.204393 -3.035138   \n",
       "...      ...        ...       ...        ...        ...       ...       ...   \n",
       "16415  27784   0.288029  0.965681  -1.459495   1.921863 -1.912414 -1.130282   \n",
       "10484  17187   1.088375  0.898474   0.394684   3.170258  0.175739 -0.221981   \n",
       "8615   11629  -3.891192  7.098916 -11.426467   8.607557 -2.065706 -2.985288   \n",
       "6882    8808  -4.617217  1.695694  -3.114372   4.328199 -1.873257 -0.989908   \n",
       "8312   11092   0.378275  3.914797  -5.726872   6.094141  1.698875 -2.807314   \n",
       "\n",
       "              V7        V8        V9  ...       V21       V22       V23  \\\n",
       "8972   -0.954940 -3.277535  2.820829  ...  1.688665 -0.078845  0.193731   \n",
       "11710 -15.833443  0.077874 -6.356833  ... -2.362345  1.099557  1.037199   \n",
       "6899   -3.103570  1.778492 -3.831154  ...  0.734775 -0.435901 -0.384766   \n",
       "18809  -3.801325  1.299096  0.864065  ...  0.899931  1.481271  0.725266   \n",
       "6717   -1.713402  0.561257 -3.796354  ...  0.615642 -0.406427 -0.737018   \n",
       "...          ...       ...       ...  ...       ...       ...       ...   \n",
       "16415  -2.814263  0.648663 -0.695263  ...  0.603127  0.380690 -0.064125   \n",
       "10484  -0.022989 -0.010874  0.860044  ... -0.423554 -0.800852  0.077614   \n",
       "8615   -8.138589  2.973928 -6.272790  ...  1.757085 -0.189709 -0.508629   \n",
       "6882   -4.577265  0.472216  0.472017  ...  0.481830  0.146023  0.117039   \n",
       "8312   -0.591118 -0.123496 -2.530713  ...  0.149896 -0.601967 -0.613724   \n",
       "\n",
       "            V24       V25       V26       V27       V28    Amount  Class  \n",
       "8972   0.479496 -0.506603 -0.409863 -3.036271 -0.630605  0.023295    1.0  \n",
       "11710 -1.036359 -0.254777  0.642343  2.161129 -1.401282  0.000130    1.0  \n",
       "6899  -0.286016  1.007934  0.413196  0.280284  0.303937  0.000130    1.0  \n",
       "18809  0.176960 -1.815638 -0.536517  0.489035 -0.049729  0.003929    1.0  \n",
       "6717  -0.279642  1.106766  0.323885  0.894767  0.569519  0.000130    1.0  \n",
       "...         ...       ...       ...       ...       ...       ...    ...  \n",
       "16415  0.271380  0.337220  0.626156  0.565125  0.305925  0.003029    1.0  \n",
       "10484  0.167608  0.350182 -0.118941  0.012948  0.054254  0.000491    1.0  \n",
       "8615  -1.189308  1.188536  0.605242  1.881529  0.875260  0.000130    1.0  \n",
       "6882  -0.217565 -0.138776 -0.424453 -1.002041  0.890780  0.000143    1.0  \n",
       "8312  -0.403114  1.568445  0.521884  0.527938  0.411910  0.000130    1.0  \n",
       "\n",
       "[100000 rows x 31 columns]"
      ]
     },
     "execution_count": 26,
     "metadata": {},
     "output_type": "execute_result"
    }
   ],
   "source": [
    "df_minority_upsampled"
   ]
  },
  {
   "cell_type": "code",
   "execution_count": 27,
   "metadata": {},
   "outputs": [],
   "source": [
    "df_upsampled = pd.concat([df_majority, df_minority_upsampled])"
   ]
  },
  {
   "cell_type": "code",
   "execution_count": 28,
   "metadata": {},
   "outputs": [
    {
     "data": {
      "text/plain": [
       "1.0    100000\n",
       "0.0     18737\n",
       "Name: Class, dtype: int64"
      ]
     },
     "execution_count": 28,
     "metadata": {},
     "output_type": "execute_result"
    }
   ],
   "source": [
    "df_upsampled.Class.value_counts()"
   ]
  },
  {
   "cell_type": "code",
   "execution_count": 29,
   "metadata": {},
   "outputs": [],
   "source": [
    "features=df_upsampled.iloc[:,:-1]"
   ]
  },
  {
   "cell_type": "code",
   "execution_count": 30,
   "metadata": {},
   "outputs": [],
   "source": [
    "labels=df_upsampled.iloc[:,30:31]"
   ]
  },
  {
   "cell_type": "code",
   "execution_count": 31,
   "metadata": {},
   "outputs": [],
   "source": [
    "features,labels=shuffle(features,labels)"
   ]
  },
  {
   "cell_type": "code",
   "execution_count": 32,
   "metadata": {},
   "outputs": [],
   "source": [
    "xtrain,xtest,ytrain,ytest=train_test_split(features,labels,test_size=0.2,stratify=labels,random_state=123)"
   ]
  },
  {
   "cell_type": "code",
   "execution_count": 33,
   "metadata": {},
   "outputs": [],
   "source": [
    "def recall_m(y_true, y_pred):\n",
    "        true_positives = K.sum(K.round(K.clip(y_true * y_pred, 0, 1)))\n",
    "        possible_positives = K.sum(K.round(K.clip(y_true, 0, 1)))\n",
    "        recall = true_positives / (possible_positives + K.epsilon())\n",
    "        return recall\n",
    "\n",
    "def precision_m(y_true, y_pred):\n",
    "        true_positives = K.sum(K.round(K.clip(y_true * y_pred, 0, 1)))\n",
    "        predicted_positives = K.sum(K.round(K.clip(y_pred, 0, 1)))\n",
    "        precision = true_positives / (predicted_positives + K.epsilon())\n",
    "        return precision\n",
    "\n",
    "def f1_m(y_true, y_pred):\n",
    "    precision = precision_m(y_true, y_pred)\n",
    "    recall = recall_m(y_true, y_pred)\n",
    "    return 2*((precision*recall)/(precision+recall+K.epsilon()))"
   ]
  },
  {
   "cell_type": "code",
   "execution_count": 34,
   "metadata": {},
   "outputs": [
    {
     "name": "stdout",
     "output_type": "stream",
     "text": [
      "Epoch 1/15\n",
      "186/186 [==============================] - 4s 11ms/step - loss: 33.6004 - accuracy: 0.7465 - f1_m: 0.7878 - precision_m: 0.7667 - recall_m: 0.8577 - val_loss: 12.4069 - val_accuracy: 0.8430 - val_f1_m: 0.9148 - val_precision_m: 0.8431 - val_recall_m: 1.0000\n",
      "Epoch 2/15\n",
      "186/186 [==============================] - 1s 5ms/step - loss: 2.1533 - accuracy: 0.8497 - f1_m: 0.9098 - precision_m: 0.9119 - recall_m: 0.9243 - val_loss: 2.6742 - val_accuracy: 0.8461 - val_f1_m: 0.9163 - val_precision_m: 0.8457 - val_recall_m: 1.0000\n",
      "Epoch 3/15\n",
      "186/186 [==============================] - 1s 5ms/step - loss: 2.9658 - accuracy: 0.8512 - f1_m: 0.9060 - precision_m: 0.9105 - recall_m: 0.9272 - val_loss: 1.8943 - val_accuracy: 0.8690 - val_f1_m: 0.9157 - val_precision_m: 0.9956 - val_recall_m: 0.8478\n",
      "Epoch 4/15\n",
      "186/186 [==============================] - 1s 5ms/step - loss: 1.3707 - accuracy: 0.8924 - f1_m: 0.9357 - precision_m: 0.9367 - recall_m: 0.9441 - val_loss: 0.2445 - val_accuracy: 0.9240 - val_f1_m: 0.9570 - val_precision_m: 0.9177 - val_recall_m: 1.0000\n",
      "Epoch 5/15\n",
      "186/186 [==============================] - 1s 4ms/step - loss: 0.8977 - accuracy: 0.9066 - f1_m: 0.9452 - precision_m: 0.9413 - recall_m: 0.9552 - val_loss: 1.3628 - val_accuracy: 0.8659 - val_f1_m: 0.9264 - val_precision_m: 0.8630 - val_recall_m: 1.0000\n",
      "Epoch 6/15\n",
      "186/186 [==============================] - 1s 4ms/step - loss: 1.1542 - accuracy: 0.9023 - f1_m: 0.9425 - precision_m: 0.9387 - recall_m: 0.9531 - val_loss: 0.1606 - val_accuracy: 0.9476 - val_f1_m: 0.9700 - val_precision_m: 0.9418 - val_recall_m: 1.0000\n",
      "Epoch 7/15\n",
      "186/186 [==============================] - 1s 4ms/step - loss: 1.0820 - accuracy: 0.9105 - f1_m: 0.9472 - precision_m: 0.9468 - recall_m: 0.9534 - val_loss: 0.6562 - val_accuracy: 0.8945 - val_f1_m: 0.9412 - val_precision_m: 0.8891 - val_recall_m: 1.0000\n",
      "Epoch 8/15\n",
      "186/186 [==============================] - 1s 4ms/step - loss: 0.5782 - accuracy: 0.9298 - f1_m: 0.9587 - precision_m: 0.9567 - recall_m: 0.9643 - val_loss: 0.6067 - val_accuracy: 0.9010 - val_f1_m: 0.9446 - val_precision_m: 0.8952 - val_recall_m: 1.0000\n",
      "Epoch 9/15\n",
      "186/186 [==============================] - 1s 4ms/step - loss: 0.4964 - accuracy: 0.9415 - f1_m: 0.9654 - precision_m: 0.9641 - recall_m: 0.9694 - val_loss: 0.0727 - val_accuracy: 0.9718 - val_f1_m: 0.9832 - val_precision_m: 0.9882 - val_recall_m: 0.9782\n",
      "Epoch 10/15\n",
      "186/186 [==============================] - 1s 5ms/step - loss: 0.2186 - accuracy: 0.9720 - f1_m: 0.9833 - precision_m: 0.9810 - recall_m: 0.9865 - val_loss: 0.0771 - val_accuracy: 0.9864 - val_f1_m: 0.9920 - val_precision_m: 0.9842 - val_recall_m: 1.0000\n",
      "Epoch 11/15\n",
      "186/186 [==============================] - 1s 5ms/step - loss: 0.1605 - accuracy: 0.9660 - f1_m: 0.9798 - precision_m: 0.9784 - recall_m: 0.9821 - val_loss: 0.4193 - val_accuracy: 0.9362 - val_f1_m: 0.9610 - val_precision_m: 0.9937 - val_recall_m: 0.9304\n",
      "Epoch 12/15\n",
      "186/186 [==============================] - 1s 4ms/step - loss: 0.8207 - accuracy: 0.9258 - f1_m: 0.9562 - precision_m: 0.9565 - recall_m: 0.9600 - val_loss: 0.1012 - val_accuracy: 0.9739 - val_f1_m: 0.9843 - val_precision_m: 0.9906 - val_recall_m: 0.9782\n",
      "Epoch 13/15\n",
      "186/186 [==============================] - 1s 5ms/step - loss: 0.5081 - accuracy: 0.9558 - f1_m: 0.9738 - precision_m: 0.9723 - recall_m: 0.9773 - val_loss: 0.1365 - val_accuracy: 0.9700 - val_f1_m: 0.9826 - val_precision_m: 0.9658 - val_recall_m: 1.0000\n",
      "Epoch 14/15\n",
      "186/186 [==============================] - 1s 4ms/step - loss: 0.3454 - accuracy: 0.9519 - f1_m: 0.9716 - precision_m: 0.9702 - recall_m: 0.9747 - val_loss: 0.3458 - val_accuracy: 0.9304 - val_f1_m: 0.9605 - val_precision_m: 0.9240 - val_recall_m: 1.0000\n",
      "Epoch 15/15\n",
      "186/186 [==============================] - 1s 5ms/step - loss: 0.3684 - accuracy: 0.9476 - f1_m: 0.9690 - precision_m: 0.9669 - recall_m: 0.9733 - val_loss: 0.2434 - val_accuracy: 0.9358 - val_f1_m: 0.9607 - val_precision_m: 0.9932 - val_recall_m: 0.9304\n"
     ]
    }
   ],
   "source": [
    "model = Sequential()\n",
    "model.add(Dense(128, input_dim=30, activation='relu'))\n",
    "#model.add(Dense(64,activation='relu'))\n",
    "model.add(Dense(32,activation='relu'))\n",
    "model.add(Dense(16, activation='relu'))\n",
    "model.add(Dense(1, activation='sigmoid'))\n",
    "model.compile(optimizer=\"adam\", loss=\"binary_crossentropy\", metrics=['accuracy',f1_m,precision_m, recall_m])\n",
    "history=model.fit(xtrain,ytrain,validation_data=(xtest,ytest),epochs=15,batch_size=512,verbose=1)"
   ]
  },
  {
   "cell_type": "code",
   "execution_count": 35,
   "metadata": {},
   "outputs": [],
   "source": [
    "def visualize_model(history):\n",
    "    plt.figure(figsize=(24,8))\n",
    "    plt.subplot(1,2,1)\n",
    "   # plt.plot(history.history[\"val_acc\"],label=\"validation_accuracy\",c=\"red\",linewidth=4)\n",
    "   # plt.plot(history.history[\"acc\"],label=\"training_accuracy\",c=\"green\",linewidth=4)\n",
    "    plt.legend()\n",
    "    plt.grid(True)\n",
    "    \n",
    "    plt.subplot(1,2,2)\n",
    "    plt.plot(history.history[\"val_loss\"],label=\"validation loss\",c=\"red\",linewidth=4)\n",
    "    plt.plot(history.history[\"loss\"],label=\"training_loss\",c=\"green\",linewidth=4)\n",
    "    plt.legend()\n",
    "    plt.grid(True)\n",
    "    plt.suptitle(\"ACC / LOSS\",fontsize=18)\n",
    "\n",
    "    plt.show()"
   ]
  },
  {
   "cell_type": "code",
   "execution_count": 36,
   "metadata": {},
   "outputs": [
    {
     "name": "stderr",
     "output_type": "stream",
     "text": [
      "No handles with labels found to put in legend.\n"
     ]
    },
    {
     "data": {
      "image/png": "[encoded data removed]",
      "text/plain": [
       "<Figure size 1728x576 with 2 Axes>"
      ]
     },
     "metadata": {
      "needs_background": "light"
     },
     "output_type": "display_data"
    }
   ],
   "source": [
    "visualize_model(history)"
   ]
  },
  {
   "cell_type": "code",
   "execution_count": 37,
   "metadata": {},
   "outputs": [
    {
     "name": "stdout",
     "output_type": "stream",
     "text": [
      "743/743 [==============================] - 1s 2ms/step - loss: 0.2434 - accuracy: 0.9358 - f1_m: 0.9599 - precision_m: 0.9932 - recall_m: 0.9302\n"
     ]
    }
   ],
   "source": [
    "loss, accuracy, f1_score, precision, recall = model.evaluate(xtest, ytest, verbose=1)"
   ]
  },
  {
   "cell_type": "code",
   "execution_count": 38,
   "metadata": {},
   "outputs": [],
   "source": [
    "model.save('keras_credit_card2.h5')"
   ]
  },
  {
   "cell_type": "code",
   "execution_count": 39,
   "metadata": {},
   "outputs": [
    {
     "name": "stdout",
     "output_type": "stream",
     "text": [
      "Model: \"sequential\"\n",
      "_________________________________________________________________\n",
      "Layer (type)                 Output Shape              Param #   \n",
      "=================================================================\n",
      "dense (Dense)                (None, 128)               3968      \n",
      "_________________________________________________________________\n",
      "dense_1 (Dense)              (None, 32)                4128      \n",
      "_________________________________________________________________\n",
      "dense_2 (Dense)              (None, 16)                528       \n",
      "_________________________________________________________________\n",
      "dense_3 (Dense)              (None, 1)                 17        \n",
      "=================================================================\n",
      "Total params: 8,641\n",
      "Trainable params: 8,641\n",
      "Non-trainable params: 0\n",
      "_________________________________________________________________\n"
     ]
    }
   ],
   "source": [
    "model.summary()"
   ]
  },
  {
   "cell_type": "code",
   "execution_count": null,
   "metadata": {},
   "outputs": [],
   "source": []
  },
  {
   "cell_type": "code",
   "execution_count": null,
   "metadata": {},
   "outputs": [],
   "source": []
  }
 ],
 "metadata": {
  "kernelspec": {
   "display_name": "Python 3",
   "language": "python",
   "name": "python3"
  },
  "language_info": {
   "codemirror_mode": {
    "name": "ipython",
    "version": 3
   },
   "file_extension": ".py",
   "mimetype": "text/x-python",
   "name": "python",
   "nbconvert_exporter": "python",
   "pygments_lexer": "ipython3",
   "version": "3.7.4"
  }
 },
 "nbformat": 4,
 "nbformat_minor": 2
}
